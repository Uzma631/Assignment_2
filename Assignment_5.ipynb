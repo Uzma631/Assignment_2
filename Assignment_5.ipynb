{
  "nbformat": 4,
  "nbformat_minor": 0,
  "metadata": {
    "colab": {
      "name": "Assignment_5.ipynb",
      "provenance": [],
      "include_colab_link": true
    },
    "kernelspec": {
      "name": "python3",
      "display_name": "Python 3"
    }
  },
  "cells": [
    {
      "cell_type": "markdown",
      "metadata": {
        "id": "view-in-github",
        "colab_type": "text"
      },
      "source": [
        "<a href=\"https://colab.research.google.com/github/Uzma631/Assignments/blob/master/Assignment_5.ipynb\" target=\"_parent\"><img src=\"https://colab.research.google.com/assets/colab-badge.svg\" alt=\"Open In Colab\"/></a>"
      ]
    },
    {
      "cell_type": "markdown",
      "metadata": {
        "id": "N1cVyBGeOyNU",
        "colab_type": "text"
      },
      "source": [
        "1.Write a Python function to calculate the factorial of a number (a non-negative\n",
        "integer). The function accepts the number as an argument."
      ]
    },
    {
      "cell_type": "code",
      "metadata": {
        "id": "x08pwdcbPCeu",
        "colab_type": "code",
        "colab": {}
      },
      "source": [
        "def factorial(x):\n",
        "  factorial1=1\n",
        "  if x<0:\n",
        "    print(\"the factorial of number doesnt exist\")\n",
        "  elif x==0:\n",
        "    print(\"the factorial of 1 is 1\")\n",
        "  else:\n",
        "    for i in range(1,x+1):\n",
        "      factorial1=factorial1*i\n",
        "    print(factorial1)\n",
        "factorial(5)\n",
        "    "
      ],
      "execution_count": 0,
      "outputs": []
    },
    {
      "cell_type": "markdown",
      "metadata": {
        "id": "bKkg5SX7DhZy",
        "colab_type": "text"
      },
      "source": [
        "2.Write a Python function that accepts a string and calculate the number of upper\n",
        "case letters and lower case letters."
      ]
    },
    {
      "cell_type": "code",
      "metadata": {
        "id": "qxM_NRlBDZKb",
        "colab_type": "code",
        "colab": {}
      },
      "source": [
        "def no_of_letters(s):\n",
        "  d={\"UPPER_CASE\":0,\"LOWER_CASE\":0}\n",
        "  for c in s:\n",
        "    if c.isupper():\n",
        "      d[\"UPPER_CASE\"]+=1\n",
        "    elif c.islower():\n",
        "      d[\"LOWER_CASE\"]+=1\n",
        "    else:\n",
        "      pass\n",
        "  print(s)\n",
        "  print(\"no of the upper case are\",d[\"UPPER_CASE\"])\n",
        "  print(\"no of the lower case are\",d[\"LOWER_CASE\"])\n",
        "no_of_letters(\"MOM is MY BEST friend \")  "
      ],
      "execution_count": 0,
      "outputs": []
    },
    {
      "cell_type": "markdown",
      "metadata": {
        "id": "EN9tpiZGLNGV",
        "colab_type": "text"
      },
      "source": [
        "3.Write a Python function to print the even numbers from a given list."
      ]
    },
    {
      "cell_type": "code",
      "metadata": {
        "id": "_BpQa0erLLaJ",
        "colab_type": "code",
        "colab": {}
      },
      "source": [
        "def even_numbers(list1):\n",
        "  for i in list1:\n",
        "    if i%2==0:\n",
        "      print(\"even numbers: \",i)\n",
        "even_numbers([1,2,3,4,5,6,7,8,9])"
      ],
      "execution_count": 0,
      "outputs": []
    },
    {
      "cell_type": "markdown",
      "metadata": {
        "id": "qRVCxwWYLqxQ",
        "colab_type": "text"
      },
      "source": [
        "4.Write a Python function that checks whether a passed string is palindrome or not."
      ]
    },
    {
      "cell_type": "code",
      "metadata": {
        "id": "IwOCdOAqLupL",
        "colab_type": "code",
        "colab": {}
      },
      "source": [
        "def palindrome(string):\n",
        "  if string[0][0]==string[0][-1]:\n",
        "    print(\"the word is palindrome\")\n",
        "  else:\n",
        "    print(\"the word is not palindrome\")\n",
        "palindrome([\"MOM\"])"
      ],
      "execution_count": 0,
      "outputs": []
    },
    {
      "cell_type": "markdown",
      "metadata": {
        "id": "0lItJNA2LDds",
        "colab_type": "text"
      },
      "source": [
        "5.Write a Python function that takes a number as a parameter and check the\n",
        "number is prime or not."
      ]
    },
    {
      "cell_type": "code",
      "metadata": {
        "id": "S0N0HfcQLFxh",
        "colab_type": "code",
        "colab": {}
      },
      "source": [
        "def prime_num(x):\n",
        "  for i in range(2,x):\n",
        "    if (x%i==0):\n",
        "      print(\"this is not prime number \")\n",
        "      break\n",
        "    else:\n",
        "      print(\"this is prime number\")\n",
        "      break\n",
        "prime_num(29)"
      ],
      "execution_count": 0,
      "outputs": []
    },
    {
      "cell_type": "markdown",
      "metadata": {
        "id": "lw2F5LYJMjO1",
        "colab_type": "text"
      },
      "source": [
        "6.Write a function which accepts the multiple arguments of user shopping list and\n",
        "print all the items which user bought from market."
      ]
    },
    {
      "cell_type": "code",
      "metadata": {
        "id": "BDQW-uqVSUTz",
        "colab_type": "code",
        "colab": {}
      },
      "source": [
        "def shopping_cart(x,y,*items1):\n",
        "  list1=[x,y]\n",
        "  for i in items1:\n",
        "    list1.append(i)\n",
        "  print(list1)\n",
        "shopping_cart(\"jelly\",\"beans\",\"mutton\",\"beef\")\n"
      ],
      "execution_count": 0,
      "outputs": []
    }
  ]
}