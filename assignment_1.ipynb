{
  "nbformat": 4,
  "nbformat_minor": 0,
  "metadata": {
    "colab": {
      "name": "Untitled6.ipynb",
      "provenance": [],
      "include_colab_link": true
    },
    "kernelspec": {
      "name": "python3",
      "display_name": "Python 3"
    }
  },
  "cells": [
    {
      "cell_type": "markdown",
      "metadata": {
        "id": "view-in-github",
        "colab_type": "text"
      },
      "source": [
        "<a href=\"https://colab.research.google.com/github/Uzma631/Assignments/blob/master/assignment_1.ipynb\" target=\"_parent\"><img src=\"https://colab.research.google.com/assets/colab-badge.svg\" alt=\"Open In Colab\"/></a>"
      ]
    },
    {
      "cell_type": "markdown",
      "metadata": {
        "id": "FccSyqNHyPxJ",
        "colab_type": "text"
      },
      "source": [
        "1. Write a Python program to print the following string in a specific format\n"
      ]
    },
    {
      "cell_type": "code",
      "metadata": {
        "id": "BitSIiFax97g",
        "colab_type": "code",
        "colab": {
          "base_uri": "https://localhost:8080/",
          "height": 118
        },
        "outputId": "047a6783-2f33-4116-ad54-058a1c93822a"
      },
      "source": [
        "print(\"Twinkle, twinkle, little star,\\n\\tHow I wonder what you are!\\n\\t\\tUp above the world so high, \\n\\t\\tLike a diamond in the sky.\\nTwinkle, twinkle, little star, \\n\\tHow I wonder what you are\")"
      ],
      "execution_count": 6,
      "outputs": [
        {
          "output_type": "stream",
          "text": [
            "Twinkle, twinkle, little star,\n",
            "\tHow I wonder what you are!\n",
            "\t\tUp above the world so high, \n",
            "\t\tLike a diamond in the sky.\n",
            "Twinkle, twinkle, little star, \n",
            "\tHow I wonder what you are\n"
          ],
          "name": "stdout"
        }
      ]
    },
    {
      "cell_type": "markdown",
      "metadata": {
        "id": "Yof_eL3hziEx",
        "colab_type": "text"
      },
      "source": [
        "2. Write a Python program to get the Python version you are using"
      ]
    },
    {
      "cell_type": "code",
      "metadata": {
        "id": "1SooDw7kzdqO",
        "colab_type": "code",
        "colab": {
          "base_uri": "https://localhost:8080/",
          "height": 50
        },
        "outputId": "c2a39f71-4714-488c-cfc3-46f0c132ebb0"
      },
      "source": [
        "import sys\n",
        "print(sys.version)"
      ],
      "execution_count": 9,
      "outputs": [
        {
          "output_type": "stream",
          "text": [
            "3.6.8 (default, Oct  7 2019, 12:59:55) \n",
            "[GCC 8.3.0]\n"
          ],
          "name": "stdout"
        }
      ]
    },
    {
      "cell_type": "markdown",
      "metadata": {
        "id": "-_3WNoQ50Uii",
        "colab_type": "text"
      },
      "source": [
        "3. Write a Python program to display the current date and time."
      ]
    },
    {
      "cell_type": "code",
      "metadata": {
        "id": "cLt-SxPJ0YMa",
        "colab_type": "code",
        "colab": {
          "base_uri": "https://localhost:8080/",
          "height": 34
        },
        "outputId": "9a6dbc61-e1d1-4b31-8254-22ae8989ea48"
      },
      "source": [
        "import datetime\n",
        "today=datetime.datetime.now()\n",
        "print(today)"
      ],
      "execution_count": 11,
      "outputs": [
        {
          "output_type": "stream",
          "text": [
            "2019-11-22 07:37:31.697041\n"
          ],
          "name": "stdout"
        }
      ]
    },
    {
      "cell_type": "markdown",
      "metadata": {
        "id": "hBwYQkKn1GUw",
        "colab_type": "text"
      },
      "source": [
        "4. Write a Python program which accepts the radius of a circle from the user and compute the area."
      ]
    },
    {
      "cell_type": "code",
      "metadata": {
        "id": "AFfuEFVW1JrO",
        "colab_type": "code",
        "colab": {
          "base_uri": "https://localhost:8080/",
          "height": 50
        },
        "outputId": "1aac4798-1e68-4e06-e30c-4592fcadf56d"
      },
      "source": [
        "rad=float(input(\"enter the value of radius\"))\n",
        "pi=3.14\n",
        "area=pi*pow(rad,rad)\n",
        "print(\"area of circle is %area\"%area)"
      ],
      "execution_count": 14,
      "outputs": [
        {
          "output_type": "stream",
          "text": [
            "enter the value of radius3\n",
            "area of circle is 84.78rea\n"
          ],
          "name": "stdout"
        }
      ]
    },
    {
      "cell_type": "markdown",
      "metadata": {
        "id": "Z1J3BrVh14A5",
        "colab_type": "text"
      },
      "source": [
        "5. Write a Python program which accepts the user's first and last name and print them in reverse order with a space between them."
      ]
    },
    {
      "cell_type": "code",
      "metadata": {
        "id": "mNvsMYK4161k",
        "colab_type": "code",
        "colab": {}
      },
      "source": [
        "first=input(\"enter your first name \")\n",
        "last=input(\"enter your last name \")\n",
        "full_name= first +  last\n",
        "reverse=full_name[::-1]\n",
        "print(reverse)\n"
      ],
      "execution_count": 0,
      "outputs": []
    },
    {
      "cell_type": "markdown",
      "metadata": {
        "id": "y7fZ2Rkw5Grr",
        "colab_type": "text"
      },
      "source": [
        "6. Write a python program which takes two inputs from user and print them addition"
      ]
    },
    {
      "cell_type": "code",
      "metadata": {
        "id": "56L9jCT95L_1",
        "colab_type": "code",
        "colab": {
          "base_uri": "https://localhost:8080/",
          "height": 67
        },
        "outputId": "d1304f65-8f0a-4a34-8bbf-950829f4b0b0"
      },
      "source": [
        "input1=int(input(\"enter the first input \"))\n",
        "input2=int(input(\"enter the second input \"))\n",
        "sum=input1+input2\n",
        "print(sum)"
      ],
      "execution_count": 24,
      "outputs": [
        {
          "output_type": "stream",
          "text": [
            "enter the first input 5\n",
            "enter the second input 4\n",
            "9\n"
          ],
          "name": "stdout"
        }
      ]
    }
  ]
}