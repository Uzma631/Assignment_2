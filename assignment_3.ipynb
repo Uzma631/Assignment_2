{
  "nbformat": 4,
  "nbformat_minor": 0,
  "metadata": {
    "colab": {
      "name": "Untitled5.ipynb",
      "provenance": [],
      "collapsed_sections": [],
      "include_colab_link": true
    },
    "kernelspec": {
      "name": "python3",
      "display_name": "Python 3"
    }
  },
  "cells": [
    {
      "cell_type": "markdown",
      "metadata": {
        "id": "view-in-github",
        "colab_type": "text"
      },
      "source": [
        "<a href=\"https://colab.research.google.com/github/Uzma631/Assignment_2/blob/master/assignment_3.ipynb\" target=\"_parent\"><img src=\"https://colab.research.google.com/assets/colab-badge.svg\" alt=\"Open In Colab\"/></a>"
      ]
    },
    {
      "cell_type": "markdown",
      "metadata": {
        "id": "b7bsi1xngo33",
        "colab_type": "text"
      },
      "source": [
        "1. Make a calculator using Python with addition , subtraction ,multiplication ,division and power."
      ]
    },
    {
      "cell_type": "code",
      "metadata": {
        "id": "NrUhjRhqgnkH",
        "colab_type": "code",
        "colab": {
          "base_uri": "https://localhost:8080/",
          "height": 84
        },
        "outputId": "2644f99a-8eaa-407c-cead-57c011202a77"
      },
      "source": [
        "numeric1=int(input(\"input your digit\"))\n",
        "numeric2=int(input(\"input your digit\"))\n",
        "operation=input(\"enter the operation that is to be performed\")\n",
        "if operation=='+':\n",
        "  sum1=numeric1 + numeric2\n",
        "  print(\"you ans is %d\"%sum1)\n",
        "elif (operation =='-'):\n",
        "    sub=numeric1 -numeric2\n",
        "    print(\"you ans is %d\"%sub)\n",
        "elif operation== '*':\n",
        "  mul=numeric1* numeric2\n",
        "  print(\"you ans is %d\"%mul)\n",
        "elif operation=='/':\n",
        "  div=numeric1 / numeric2\n",
        "  print(\"you ans is %d\"%div)\n",
        "elif operation=='^':\n",
        "  power=pow(numeric1,numeric2)\n",
        "  print(\"your ans is %d\"%power)\n",
        "else:\n",
        "  print(\"invalid operand\")\n",
        "\n",
        "\n"
      ],
      "execution_count": 62,
      "outputs": [
        {
          "output_type": "stream",
          "text": [
            "input your digit4\n",
            "input your digit5\n",
            "enter the operation that is to be performed$\n",
            "invalid operand\n"
          ],
          "name": "stdout"
        }
      ]
    },
    {
      "cell_type": "markdown",
      "metadata": {
        "id": "eDQmAXSxdkns",
        "colab_type": "text"
      },
      "source": [
        "2. Write a program to check if there is any numeric value in list using for loop"
      ]
    },
    {
      "cell_type": "code",
      "metadata": {
        "id": "VQq1TUJ9dkOp",
        "colab_type": "code",
        "colab": {}
      },
      "source": [
        "mylist=['a','1','b','2']\n",
        "for x in mylist:\n",
        "   if x.isdigit():\n",
        "    print(x)"
      ],
      "execution_count": 0,
      "outputs": []
    },
    {
      "cell_type": "markdown",
      "metadata": {
        "id": "D6-mZzvPhOv4",
        "colab_type": "text"
      },
      "source": [
        "3. Write a Python script to add a key to a dictionary"
      ]
    },
    {
      "cell_type": "code",
      "metadata": {
        "id": "E1HerGuZhNsx",
        "colab_type": "code",
        "colab": {}
      },
      "source": [
        "my_dictionary={'a':'fruits','b':'vegetables','c':'meat'}\n",
        "my_dictionary[3]=\"animals\"\n",
        "print(my_dictionary)\n",
        "  \n"
      ],
      "execution_count": 0,
      "outputs": []
    },
    {
      "cell_type": "markdown",
      "metadata": {
        "id": "GR86gbfXB2Tp",
        "colab_type": "text"
      },
      "source": [
        "4. Write a Python program to sum all the numeric items in a dictionary"
      ]
    },
    {
      "cell_type": "code",
      "metadata": {
        "id": "0MM3wJn2B7Q8",
        "colab_type": "code",
        "colab": {
          "base_uri": "https://localhost:8080/",
          "height": 34
        },
        "outputId": "dc6a5c5a-0f7e-4926-ce8c-7951c971814c"
      },
      "source": [
        "my_dict={'alpha':100,'beta':400,'gamma':50,'electron':350}\n",
        "sum=0\n",
        "for i in my_dict.values():\n",
        "  sum=sum+i\n",
        "print(sum)"
      ],
      "execution_count": 29,
      "outputs": [
        {
          "output_type": "stream",
          "text": [
            "900\n"
          ],
          "name": "stdout"
        }
      ]
    },
    {
      "cell_type": "markdown",
      "metadata": {
        "id": "jGUr-8bcE8F3",
        "colab_type": "text"
      },
      "source": [
        "5. Write a program to identify duplicate values from list"
      ]
    },
    {
      "cell_type": "code",
      "metadata": {
        "id": "8WSRvQKTE_sp",
        "colab_type": "code",
        "colab": {
          "base_uri": "https://localhost:8080/",
          "height": 34
        },
        "outputId": "472c2719-26c5-41be-e05e-e47a02a15a86"
      },
      "source": [
        "my_list=[1,2,4,4,5,3,2,1]\n",
        "new_list=[]\n",
        "for i in my_list:\n",
        "  if not my_list.count(i)<2:\n",
        "    new_list.append(i)\n",
        "print(new_list)\n"
      ],
      "execution_count": 39,
      "outputs": [
        {
          "output_type": "stream",
          "text": [
            "[1, 2, 4, 4, 2, 1]\n"
          ],
          "name": "stdout"
        }
      ]
    },
    {
      "cell_type": "markdown",
      "metadata": {
        "id": "B0-Xac1PHcE3",
        "colab_type": "text"
      },
      "source": [
        "6. Write a Python script to check if a given key already exists in a dictionary"
      ]
    },
    {
      "cell_type": "code",
      "metadata": {
        "id": "fnI81m0xHgxu",
        "colab_type": "code",
        "colab": {
          "base_uri": "https://localhost:8080/",
          "height": 50
        },
        "outputId": "4bdfebe2-751f-4a32-82d8-adc8d2316e9f"
      },
      "source": [
        "my_dic={1:'apple',2:'banana',2:'cake'}\n",
        "key1=int(input(\"enter the key\"))\n",
        "if i== key1:\n",
        "  print(\"yes it exist\")\n",
        "else:\n",
        "  print(\"it's not in dictionry\")"
      ],
      "execution_count": 54,
      "outputs": [
        {
          "output_type": "stream",
          "text": [
            "enter the key2\n",
            "yes it exist\n"
          ],
          "name": "stdout"
        }
      ]
    }
  ]
}