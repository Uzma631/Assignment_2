{
  "nbformat": 4,
  "nbformat_minor": 0,
  "metadata": {
    "colab": {
      "name": "Assignment_6.ipynb",
      "provenance": [],
      "include_colab_link": true
    },
    "kernelspec": {
      "name": "python3",
      "display_name": "Python 3"
    }
  },
  "cells": [
    {
      "cell_type": "markdown",
      "metadata": {
        "id": "view-in-github",
        "colab_type": "text"
      },
      "source": [
        "<a href=\"https://colab.research.google.com/github/Uzma631/Assignments/blob/master/Assignment_6.ipynb\" target=\"_parent\"><img src=\"https://colab.research.google.com/assets/colab-badge.svg\" alt=\"Open In Colab\"/></a>"
      ]
    },
    {
      "cell_type": "code",
      "metadata": {
        "id": "gTcYqXIv4v8c",
        "colab_type": "code",
        "colab": {}
      },
      "source": [
        "Define Object Oriented Programming Language?\n",
        "Object-oriented programming (OOP) is a programming paradigm based on the concept of \"objects\",\n",
        "which can contain data, in the form of fields (often known as attributes), and code, \n",
        "in the form of procedures (often known as methods). "
      ],
      "execution_count": 0,
      "outputs": []
    },
    {
      "cell_type": "markdown",
      "metadata": {
        "id": "ZQ2jSmIE5kc7",
        "colab_type": "text"
      },
      "source": [
        "List down the Benefits of OOP?\n",
        "1. Objects can also be reused within an across applications\n",
        "2. Reuse also enables faster developm\n",
        "3. It is easy to maintain and modify existing code as new   objects can be created with small differences to existing ones\n"
      ]
    },
    {
      "cell_type": "markdown",
      "metadata": {
        "id": "750kN7fv6eim",
        "colab_type": "text"
      },
      "source": [
        "Differentiate between function and method?\n",
        "* A function is a piece of code that is called by name. It can be passed data to operate on and can optionally return data\n",
        "* A method is a piece of code that is called by a name that is associated with an object.\n",
        "\n"
      ]
    },
    {
      "cell_type": "markdown",
      "metadata": {
        "id": "EewSMwYD-n21",
        "colab_type": "text"
      },
      "source": [
        "* class: In object-oriented programming, a class is an \n",
        "extensible program-code-template for creating objects, providing initial values for state and implementations of behavior\n",
        "* object: Each object is an instance of a particular class or subclass with the class's own methods or procedures and data variables\n",
        "*Attributes: attributes store information about the instance.\n",
        "*Behaviour: The behavior of an object is defined by its methods, which are the functions and subroutines defined within the object class."
      ]
    },
    {
      "cell_type": "markdown",
      "metadata": {
        "id": "4Gmia66E_6Pv",
        "colab_type": "text"
      },
      "source": [
        "5.Write a code in python in which create a class named it Car which\n",
        "have 5 attributes such like (model, color and name etc.) and 3\n",
        "methods. And create 5 object instance from that class."
      ]
    },
    {
      "cell_type": "code",
      "metadata": {
        "id": "pGNzGoG2AB3s",
        "colab_type": "code",
        "colab": {}
      },
      "source": [
        "class Car():\n",
        "    def __init__(self,name,model,color,menufacturer,design):\n",
        "        self.name = name\n",
        "        self.model = model\n",
        "        self.color = color\n",
        "        self.menufacturer=menufacturer\n",
        "        self.design=\"old\"\n",
        "\n",
        "        def designupdate(self,new):\n",
        "          self.design=new\n",
        "\n",
        "        def colorupdate(self,new_color):\n",
        "          self.color=new_color\n",
        "\n",
        "        def nameupdate(self,new_name):\n",
        "          self.name=new_name\n",
        "\n"
      ],
      "execution_count": 0,
      "outputs": []
    }
  ]
}