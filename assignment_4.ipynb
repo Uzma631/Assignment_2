{
  "nbformat": 4,
  "nbformat_minor": 0,
  "metadata": {
    "colab": {
      "name": "assignment_4.ipynb",
      "provenance": [],
      "collapsed_sections": [],
      "include_colab_link": true
    },
    "kernelspec": {
      "name": "python3",
      "display_name": "Python 3"
    }
  },
  "cells": [
    {
      "cell_type": "markdown",
      "metadata": {
        "id": "view-in-github",
        "colab_type": "text"
      },
      "source": [
        "<a href=\"https://colab.research.google.com/github/Uzma631/Assignments/blob/master/assignment_4.ipynb\" target=\"_parent\"><img src=\"https://colab.research.google.com/assets/colab-badge.svg\" alt=\"Open In Colab\"/></a>"
      ]
    },
    {
      "cell_type": "markdown",
      "metadata": {
        "id": "kdEdlcrA25Vn",
        "colab_type": "text"
      },
      "source": [
        "1.Use a dictionary to store information about a person you know. Store their first name, last name, age,\n",
        "and the city in which they live. You should have keys such as first_name, last_name, age, and city. Print\n",
        "each piece of information stored in your dictionary. Add a new key value pair about qualification then\n",
        "update the qualification value to high academic level then delete it."
      ]
    },
    {
      "cell_type": "code",
      "metadata": {
        "id": "5XuOhsFi24aF",
        "colab_type": "code",
        "outputId": "b83b562f-bcdf-410f-9d79-5202e8a33bd8",
        "colab": {
          "base_uri": "https://localhost:8080/",
          "height": 118
        }
      },
      "source": [
        "info={\"First_name\":\"Uzma\",\"last_name\":\"Akram\",\"age\":21,\"city\":\"jamshoro\"}\n",
        "for key,value in info.items():\n",
        "    print(key,value)\n",
        "info[\"qualification\"]=\"undergraduate\"\n",
        "info[\"qualification\"]=\"high academic\"\n",
        "print(info)\n",
        "del info[\"qualification\"]\n",
        "print(info)"
      ],
      "execution_count": 0,
      "outputs": [
        {
          "output_type": "stream",
          "text": [
            "First_name Uzma\n",
            "last_name Akram\n",
            "age 21\n",
            "city jamshoro\n",
            "{'First_name': 'Uzma', 'last_name': 'Akram', 'age': 21, 'city': 'jamshoro', 'qualification': 'high academic'}\n",
            "{'First_name': 'Uzma', 'last_name': 'Akram', 'age': 21, 'city': 'jamshoro'}\n"
          ],
          "name": "stdout"
        }
      ]
    },
    {
      "cell_type": "markdown",
      "metadata": {
        "id": "hxUk181f3IGO",
        "colab_type": "text"
      },
      "source": [
        "2.Make a dictionary called cities. Use the names of three cities as keys in your dictionary. Create a\n",
        "dictionary of information about each city and include the country that the city is in, its approximate\n",
        "population, and one fact about that city. The keys for each city’s dictionary should be something like\n",
        "country, population, and fact. Print the name of each city and all of the information you have stored\n",
        "about it."
      ]
    },
    {
      "cell_type": "code",
      "metadata": {
        "id": "ONdridfx3Qqn",
        "colab_type": "code",
        "outputId": "a7be0fb1-3fa5-4e32-88fb-9169eb004178",
        "colab": {
          "base_uri": "https://localhost:8080/",
          "height": 84
        }
      },
      "source": [
        "cities={\"karachi\":{\"country\":\"pakistan\",\"population\":\"16 crore\",\"fact\":\"the city of lights\"},\n",
        "        \"tehran\":{\"country\":\"iran\",\"population\":\"79 million\",\"fact\":\"99% of iranians are muslims\"},\n",
        "        \"new delhi\":{\"country\":\"india\",\"population\":\"10 billion\",\"fact\":\"seventh largest country by total area\"},\n",
        "        \"kabul\":{\"country\":\"afghanistan\",\"population\":\"80 million\",\"fact\":\"it is landlocked country\"}}\n",
        "for keys,values in cities.items():\n",
        "  print(keys,values)\n"
      ],
      "execution_count": 7,
      "outputs": [
        {
          "output_type": "stream",
          "text": [
            "karachi {'country': 'pakistan', 'population': '16 crore', 'fact': 'the city of lights'}\n",
            "tehran {'country': 'iran', 'population': '79 million', 'fact': '99% of iranians are muslims'}\n",
            "new delhi {'country': 'india', 'population': '10 billion', 'fact': 'seventh largest country by total area'}\n",
            "kabul {'country': 'afghanistan', 'population': '80 million', 'fact': 'it is landlocked country'}\n"
          ],
          "name": "stdout"
        }
      ]
    },
    {
      "cell_type": "markdown",
      "metadata": {
        "id": "_WKvmBbO3Wb_",
        "colab_type": "text"
      },
      "source": [
        "3.A movie theater charges different ticket prices depending on a person’s age. If a person is under the age\n",
        "of 3, the ticket is free; if they are between 3 and 12, the ticket is $10; and if they are over age 12, the\n",
        "ticket is $15. Write a loop in which you ask users their age, and then tell them the cost of their movie\n",
        "ticket."
      ]
    },
    {
      "cell_type": "code",
      "metadata": {
        "id": "Trzr16Yc3d8f",
        "colab_type": "code",
        "outputId": "d880789d-e396-4370-e972-b1274763da18",
        "colab": {
          "base_uri": "https://localhost:8080/",
          "height": 50
        }
      },
      "source": [
        "age=int(input(\"please enter your age\"))\n",
        "if age < 3:\n",
        "    print(\"ticket is free\")\n",
        "elif (age >=3) and (age<=12):\n",
        "    print(\"the ticket is $10\")\n",
        "else:\n",
        "    print(\"the ticket is $15\")"
      ],
      "execution_count": 0,
      "outputs": [
        {
          "output_type": "stream",
          "text": [
            "please enter your age21\n",
            "the ticket is $15\n"
          ],
          "name": "stdout"
        }
      ]
    },
    {
      "cell_type": "markdown",
      "metadata": {
        "id": "7cej58H-3mRu",
        "colab_type": "text"
      },
      "source": [
        "4.Write a function called favorite_book() that accepts one parameter, title. The function should print a\n",
        "message, such as One of my favorite books is Alice in Wonderland. Call the function, making sure to\n",
        "include a book title as an argument in the function call."
      ]
    },
    {
      "cell_type": "code",
      "metadata": {
        "id": "BpXEFBPZ3l3O",
        "colab_type": "code",
        "outputId": "546a220e-ec78-4c61-ec39-395d6252c51b",
        "colab": {
          "base_uri": "https://localhost:8080/",
          "height": 34
        }
      },
      "source": [
        "def favourite_book():\n",
        "    print(\"one of my favourite book is Alice in Wondeland\")\n",
        "\n",
        "favourite_book()"
      ],
      "execution_count": 0,
      "outputs": [
        {
          "output_type": "stream",
          "text": [
            "one of my favourite book is Alice in Wondeland\n"
          ],
          "name": "stdout"
        }
      ]
    },
    {
      "cell_type": "markdown",
      "metadata": {
        "id": "IAGBkhvr25QP",
        "colab_type": "text"
      },
      "source": [
        "5.Guess the number game\n",
        "Write a program which randomly generate a number between 1 to 30 and ask the user in input field to\n",
        "guess the correct number. Give three chances to user guess the number and also give hint to user if\n",
        "hidden number is greater or smaller than the number he given to input field."
      ]
    },
    {
      "cell_type": "code",
      "metadata": {
        "id": "rp3y6UH732-U",
        "colab_type": "code",
        "colab": {}
      },
      "source": [
        "import random\n",
        "number=random.randrange(1,30)\n",
        "for i in range(1,4):\n",
        "    guess=int(input(\"guess the number\\t\"))\n",
        "    if guess==number:\n",
        "        print(\"guessed number is correct\")\n",
        "        break\n",
        "    elif i<=2:\n",
        "        print(\"try again\")\n",
        "        if number <= 15:\n",
        "            print(\"hint! number is less than or equal to 15\")\n",
        "        else:\n",
        "            print(\"hint! number is greater than 15\")\n",
        "    else:\n",
        "        print(\"no chance left\")"
      ],
      "execution_count": 0,
      "outputs": []
    }
  ]
}